{
 "cells": [
  {
   "cell_type": "markdown",
   "id": "dbae8bed",
   "metadata": {},
   "source": [
    "# Data Science Tools and Techniques"
   ]
  },
  {
   "cell_type": "markdown",
   "id": "737d2993",
   "metadata": {},
   "source": [
    "## Introduction\n",
    "\n",
    "This notebook provides an overview of various tools and techniques used in Data Science. It includes examples of data science languages, libraries, tools, and some basic arithmetic operations."
   ]
  },
  {
   "cell_type": "markdown",
   "id": "10449074",
   "metadata": {},
   "source": [
    "## Data Science Languages\n",
    "\n",
    "- Python\n",
    "- R\n",
    "- SQL\n",
    "- Julia\n",
    "- Scala\n",
    "- Java\n",
    "- MATLAB"
   ]
  },
  {
   "cell_type": "markdown",
   "id": "2380aabc",
   "metadata": {},
   "source": [
    "## Data Science Libraries\n",
    "\n",
    "- Pandas\n",
    "- NumPy\n",
    "- Matplotlib\n",
    "- Scikit-learn\n",
    "- TensorFlow\n",
    "- Keras\n",
    "- PyTorch\n",
    "- SciPy\n",
    "- Seaborn"
   ]
  },
  {
   "cell_type": "markdown",
   "id": "ee8cb981",
   "metadata": {},
   "source": [
    "## Data Science Tools\n",
    "\n",
    "| Tool          | Description                                 |\n",
    "|---------------|---------------------------------------------|\n",
    "| Jupyter       | Interactive computing environment          |\n",
    "| RStudio       | Integrated development environment for R   |\n",
    "| Apache Spark  | Unified analytics engine for big data      |\n",
    "| TensorFlow    | Open-source machine learning library       |\n",
    "| Tableau       | Data visualization tool                    |\n",
    "| Apache Hadoop | Framework for distributed storage and processing of big data |"
   ]
  },
  {
   "cell_type": "markdown",
   "id": "dbf24079",
   "metadata": {},
   "source": [
    "## Arithmetic Expression Examples\n",
    "\n",
    "Below are some examples of basic arithmetic operations performed using Python."
   ]
  },
  {
   "cell_type": "code",
   "execution_count": 2,
   "id": "248dcebc",
   "metadata": {
    "tags": []
   },
   "outputs": [
    {
     "data": {
      "text/plain": [
       "17"
      ]
     },
     "execution_count": 2,
     "metadata": {},
     "output_type": "execute_result"
    }
   ],
   "source": [
    "# This is a simple arithmetic expression to multiply and add numbers\n",
    "result = (3 * 4) + 5\n",
    "result"
   ]
  },
  {
   "cell_type": "code",
   "execution_count": 1,
   "id": "684fce09",
   "metadata": {
    "tags": []
   },
   "outputs": [
    {
     "data": {
      "text/plain": [
       "3.3333333333333335"
      ]
     },
     "execution_count": 1,
     "metadata": {},
     "output_type": "execute_result"
    }
   ],
   "source": [
    "# This will convert 200 minutes to hours by dividing by 60\n",
    "minutes = 200\n",
    "hours = minutes / 60\n",
    "hours"
   ]
  },
  {
   "cell_type": "markdown",
   "id": "afddd81d",
   "metadata": {},
   "source": [
    "## Objectives\n",
    "\n",
    "- List popular languages for Data Science\n",
    "- List commonly used libraries in Data Science\n",
    "- Demonstrate basic arithmetic operations\n",
    "- Convert time units using Python\n",
    "- Introduce popular tools used in Data Science"
   ]
  },
  {
   "cell_type": "markdown",
   "id": "757a82da",
   "metadata": {},
   "source": [
    "## Author\n",
    "\n",
    "Dharaneesh S K"
   ]
  },
  {
   "cell_type": "code",
   "execution_count": null,
   "id": "0ae7147f-ab00-4d00-bd4b-628aa8ff7014",
   "metadata": {},
   "outputs": [],
   "source": []
  }
 ],
 "metadata": {
  "kernelspec": {
   "display_name": "Python",
   "language": "python",
   "name": "conda-env-python-py"
  },
  "language_info": {
   "codemirror_mode": {
    "name": "ipython",
    "version": 3
   },
   "file_extension": ".py",
   "mimetype": "text/x-python",
   "name": "python",
   "nbconvert_exporter": "python",
   "pygments_lexer": "ipython3",
   "version": "3.7.12"
  }
 },
 "nbformat": 4,
 "nbformat_minor": 5
}
